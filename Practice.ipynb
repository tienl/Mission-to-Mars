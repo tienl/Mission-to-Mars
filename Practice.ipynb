{
 "cells": [
  {
   "cell_type": "code",
   "execution_count": 25,
   "metadata": {},
   "outputs": [],
   "source": [
    "from splinter import Browser\n",
    "from bs4 import BeautifulSoup as Soup"
   ]
  },
  {
   "cell_type": "code",
   "execution_count": 4,
   "metadata": {},
   "outputs": [],
   "source": [
    "# Windows users\n",
    "executable_path = {'executable_path': 'chromedriver.exe'}\n",
    "browser = Browser('chrome', **executable_path, headless=False)"
   ]
  },
  {
   "cell_type": "code",
   "execution_count": 5,
   "metadata": {},
   "outputs": [],
   "source": [
    "# Visit the Quotes to Scrape site\n",
    "url = 'http://quotes.toscrape.com/'\n",
    "browser.visit(url)"
   ]
  },
  {
   "cell_type": "code",
   "execution_count": 26,
   "metadata": {},
   "outputs": [],
   "source": [
    "# Parse the HTML\n",
    "html = browser.html\n",
    "soup = Soup(html, 'html.parser')"
   ]
  },
  {
   "cell_type": "code",
   "execution_count": 27,
   "metadata": {},
   "outputs": [
    {
     "data": {
      "text/plain": [
       "'Top Ten tags'"
      ]
     },
     "execution_count": 27,
     "metadata": {},
     "output_type": "execute_result"
    }
   ],
   "source": [
    "# Scrape the Title\n",
    "title = soup.find('h2').text\n",
    "title"
   ]
  },
  {
   "cell_type": "code",
   "execution_count": 22,
   "metadata": {},
   "outputs": [
    {
     "name": "stdout",
     "output_type": "stream",
     "text": [
      "love\n",
      "inspirational\n",
      "life\n",
      "humor\n",
      "books\n",
      "reading\n",
      "friendship\n",
      "friends\n",
      "truth\n",
      "simile\n"
     ]
    }
   ],
   "source": [
    "# Scrape the top ten tags\n",
    "tag_box = soup.find('div', class_='tags-box')\n",
    "# tag_box\n",
    "tags = tag_box.find_all('a', class_='tag')\n",
    "\n",
    "for tag in tags:\n",
    "    word = tag.text\n",
    "    print(word)"
   ]
  },
  {
   "cell_type": "code",
   "execution_count": 43,
   "metadata": {},
   "outputs": [],
   "source": [
    "url = 'http://books.toscrape.com/'\n",
    "browser.visit(url)"
   ]
  },
  {
   "cell_type": "code",
   "execution_count": 38,
   "metadata": {},
   "outputs": [],
   "source": [
    "for x in range(1, 6):\n",
    "    html = browser.html\n",
    "    soup = Soup(html, 'html.parser')\n",
    "    #quotes = soup.find_all('div', class_='quote')\n",
    "    quotes = soup.find_all('a', href='text')\n",
    "    for quote in quotes:\n",
    "        print('page:', x, '----------')\n",
    "        print(quote.text)\n",
    "    "
   ]
  },
  {
   "cell_type": "code",
   "execution_count": 39,
   "metadata": {},
   "outputs": [
    {
     "name": "stdout",
     "output_type": "stream",
     "text": [
      "<class 'type'>\n",
      "<class 'bs4.BeautifulSoup'>\n"
     ]
    }
   ],
   "source": [
    "print (type(Soup))\n",
    "print (type(soup))"
   ]
  },
  {
   "cell_type": "code",
   "execution_count": 62,
   "metadata": {},
   "outputs": [],
   "source": [
    "del quotes"
   ]
  },
  {
   "cell_type": "code",
   "execution_count": 46,
   "metadata": {},
   "outputs": [
    {
     "name": "stdout",
     "output_type": "stream",
     "text": [
      "--------------------------------------------------\n",
      "A Light in the Attic\n",
      "http://books.toscrape.com//catalogue/a-light-in-the-attic_1000/index.html\n",
      "Scraping complete\n",
      "--------------------------------------------------\n",
      "Tipping the Velvet\n",
      "http://books.toscrape.com//catalogue/tipping-the-velvet_999/index.html\n",
      "Scraping complete\n",
      "--------------------------------------------------\n",
      "Soumission\n",
      "http://books.toscrape.com//catalogue/soumission_998/index.html\n",
      "Scraping complete\n",
      "--------------------------------------------------\n",
      "Sharp Objects\n",
      "http://books.toscrape.com//catalogue/sharp-objects_997/index.html\n",
      "Scraping complete\n",
      "--------------------------------------------------\n",
      "Sapiens: A Brief History of Humankind\n",
      "http://books.toscrape.com//catalogue/sapiens-a-brief-history-of-humankind_996/index.html\n",
      "Scraping complete\n",
      "--------------------------------------------------\n",
      "The Requiem Red\n",
      "http://books.toscrape.com//catalogue/the-requiem-red_995/index.html\n",
      "Scraping complete\n",
      "--------------------------------------------------\n",
      "The Dirty Little Secrets of Getting Your Dream Job\n",
      "http://books.toscrape.com//catalogue/the-dirty-little-secrets-of-getting-your-dream-job_994/index.html\n",
      "Scraping complete\n",
      "--------------------------------------------------\n",
      "The Coming Woman: A Novel Based on the Life of the Infamous Feminist, Victoria Woodhull\n",
      "http://books.toscrape.com//catalogue/the-coming-woman-a-novel-based-on-the-life-of-the-infamous-feminist-victoria-woodhull_993/index.html\n",
      "Scraping complete\n",
      "--------------------------------------------------\n",
      "The Boys in the Boat: Nine Americans and Their Epic Quest for Gold at the 1936 Berlin Olympics\n",
      "http://books.toscrape.com//catalogue/the-boys-in-the-boat-nine-americans-and-their-epic-quest-for-gold-at-the-1936-berlin-olympics_992/index.html\n",
      "Scraping complete\n",
      "--------------------------------------------------\n",
      "The Black Maria\n",
      "http://books.toscrape.com//catalogue/the-black-maria_991/index.html\n",
      "Scraping complete\n",
      "--------------------------------------------------\n",
      "Starving Hearts (Triangular Trade Trilogy, #1)\n",
      "http://books.toscrape.com//catalogue/starving-hearts-triangular-trade-trilogy-1_990/index.html\n",
      "Scraping complete\n",
      "--------------------------------------------------\n",
      "Shakespeare's Sonnets\n",
      "http://books.toscrape.com//catalogue/shakespeares-sonnets_989/index.html\n",
      "Scraping complete\n",
      "--------------------------------------------------\n",
      "Set Me Free\n",
      "http://books.toscrape.com//catalogue/set-me-free_988/index.html\n",
      "Scraping complete\n",
      "--------------------------------------------------\n",
      "Scott Pilgrim's Precious Little Life (Scott Pilgrim #1)\n",
      "http://books.toscrape.com//catalogue/scott-pilgrims-precious-little-life-scott-pilgrim-1_987/index.html\n",
      "Scraping complete\n",
      "--------------------------------------------------\n",
      "Rip it Up and Start Again\n",
      "http://books.toscrape.com//catalogue/rip-it-up-and-start-again_986/index.html\n",
      "Scraping complete\n",
      "--------------------------------------------------\n",
      "Our Band Could Be Your Life: Scenes from the American Indie Underground, 1981-1991\n",
      "http://books.toscrape.com//catalogue/our-band-could-be-your-life-scenes-from-the-american-indie-underground-1981-1991_985/index.html\n",
      "Scraping complete\n",
      "--------------------------------------------------\n",
      "Olio\n",
      "http://books.toscrape.com//catalogue/olio_984/index.html\n",
      "Scraping complete\n",
      "--------------------------------------------------\n",
      "Mesaerion: The Best Science Fiction Stories 1800-1849\n",
      "http://books.toscrape.com//catalogue/mesaerion-the-best-science-fiction-stories-1800-1849_983/index.html\n",
      "Scraping complete\n",
      "--------------------------------------------------\n",
      "Libertarianism for Beginners\n",
      "http://books.toscrape.com//catalogue/libertarianism-for-beginners_982/index.html\n",
      "Scraping complete\n",
      "--------------------------------------------------\n",
      "It's Only the Himalayas\n",
      "http://books.toscrape.com//catalogue/its-only-the-himalayas_981/index.html\n",
      "Scraping complete\n"
     ]
    }
   ],
   "source": [
    "\n",
    "    html = browser.html\n",
    "    soup = BeautifulSoup(html, 'html.parser')\n",
    "    # <articles class=\"product_pod\">\n",
    "    \n",
    "    articles = soup.find_all('article', class_=\"product_pod\")\n",
    "    for article in articles:\n",
    "        h3 = article.find('h3')\n",
    "        link = h3.find('a')\n",
    "        href = link['href']\n",
    "        title = link['title']\n",
    "        print(\"-\" * 50)\n",
    "        print(title)\n",
    "        print(f'{url}/{href}')\n",
    "  #  try:\n",
    "     #   browser.click_link_by_partial_text('next')\n",
    "  #  except:\n",
    "        print(\"Scraping complete\")\n",
    "        "
   ]
  },
  {
   "cell_type": "code",
   "execution_count": null,
   "metadata": {},
   "outputs": [],
   "source": []
  }
 ],
 "metadata": {
  "kernelspec": {
   "display_name": "Python 3",
   "language": "python",
   "name": "python3"
  },
  "language_info": {
   "codemirror_mode": {
    "name": "ipython",
    "version": 3
   },
   "file_extension": ".py",
   "mimetype": "text/x-python",
   "name": "python",
   "nbconvert_exporter": "python",
   "pygments_lexer": "ipython3",
   "version": "3.7.6"
  }
 },
 "nbformat": 4,
 "nbformat_minor": 4
}
